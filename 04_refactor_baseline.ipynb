{
 "cells": [
  {
   "cell_type": "code",
   "execution_count": 1,
   "metadata": {},
   "outputs": [],
   "source": [
    "import wandb\n",
    "import pandas as pd\n",
    "import torchvision.models as tvmodels\n",
    "from fastai.vision.all import *\n",
    "from fastai.callback.wandb import WandbCallback\n",
    "\n",
    "import params\n",
    "from utils import (\n",
    "    get_predictions,\n",
    "    create_iou_table,\n",
    "    MIOU,\n",
    "    BackgroundIOU,\n",
    "    RoadIOU,\n",
    "    TrafficLightIOU,\n",
    "    TrafficSignIOU,\n",
    "    PersonIOU,\n",
    "    VehicleIOU,\n",
    "    BicycleIOU,\n",
    ")"
   ]
  },
  {
   "cell_type": "code",
   "execution_count": 2,
   "metadata": {},
   "outputs": [],
   "source": [
    "train_config = SimpleNamespace(\n",
    "    framework=\"fastai\",\n",
    "    img_size=(180, 320),\n",
    "    batch_size=8,\n",
    "    augment=True,  # use data augmentation\n",
    "    epochs=10,\n",
    "    lr=2e-3,\n",
    "    arch=\"resnet18\",\n",
    "    pretrained=True,  # whether to use pretrained encoder\n",
    "    seed=42,\n",
    "    log_preds=True,\n",
    ")"
   ]
  },
  {
   "cell_type": "code",
   "execution_count": 3,
   "metadata": {},
   "outputs": [],
   "source": [
    "def download_data():\n",
    "    processed_data_at = wandb.use_artifact(f\"{params.PROCESSED_DATA_AT}:latest\")\n",
    "    processed_dataset_dir = Path(processed_data_at.download())\n",
    "    return processed_dataset_dir"
   ]
  },
  {
   "cell_type": "code",
   "execution_count": 4,
   "metadata": {},
   "outputs": [],
   "source": [
    "def label_func(fname):\n",
    "    return (fname.parent.parent / \"labels\") / f\"{fname.stem}_mask.png\""
   ]
  },
  {
   "cell_type": "code",
   "execution_count": 5,
   "metadata": {},
   "outputs": [],
   "source": [
    "def get_df(processed_dataset_dir, is_test=False):\n",
    "    df = pd.read_csv(processed_dataset_dir / \"data_split.csv\")\n",
    "\n",
    "    if not is_test:\n",
    "        df = df[df.Stage != \"test\"].reset_index(drop=True)\n",
    "        df[\"is_valid\"] = df.Stage == \"valid\"\n",
    "    else:\n",
    "        df = df[df.Stage == \"test\"].reset_index(drop=True)\n",
    "\n",
    "    # assign paths\n",
    "    df[\"image_fname\"] = [\n",
    "        processed_dataset_dir / f\"images/{f}\" for f in df.File_Name.values\n",
    "    ]\n",
    "    df[\"label_fname\"] = [label_func(f) for f in df.image_fname.values]\n",
    "    return df"
   ]
  },
  {
   "cell_type": "code",
   "execution_count": 6,
   "metadata": {},
   "outputs": [],
   "source": [
    "def get_data(df, bs=4, img_size=(180, 320), augment=True):\n",
    "    block = DataBlock(\n",
    "        blocks=(ImageBlock, MaskBlock(codes=params.BDD_CLASSES)),\n",
    "        get_x=ColReader(\"image_fname\"),\n",
    "        get_y=ColReader(\"label_fname\"),\n",
    "        splitter=ColSplitter(),\n",
    "        item_tfms=Resize(img_size),\n",
    "        batch_tfms=aug_transforms() if augment else None,\n",
    "    )\n",
    "    return block.dataloaders(df, bs=bs)"
   ]
  },
  {
   "cell_type": "code",
   "execution_count": 7,
   "metadata": {},
   "outputs": [],
   "source": [
    "def log_predictions(learn):\n",
    "    \"Log a Table with model predictions\"\n",
    "    samples, outputs, predictions = get_predictions(learn)\n",
    "    table = create_iou_table(samples, outputs, predictions, params.BDD_CLASSES)\n",
    "    wandb.log({\"pred_table\": table})"
   ]
  },
  {
   "cell_type": "code",
   "execution_count": 8,
   "metadata": {},
   "outputs": [],
   "source": [
    "def log_final_metrics(learn):\n",
    "    scores = learn.validate()\n",
    "    metric_names = [\"final_loss\"] + [f\"final_{x.name}\" for x in learn.metrics]\n",
    "    final_results = {metric_names[i]: scores[i] for i in range(len(scores))}\n",
    "    for k, v in final_results.items():\n",
    "        wandb.summary[k] = v"
   ]
  },
  {
   "cell_type": "code",
   "execution_count": 9,
   "metadata": {},
   "outputs": [],
   "source": [
    "def train(config):\n",
    "    set_seed(config.seed, reproducible=True)\n",
    "    run = wandb.init(\n",
    "        project=params.WANDB_PROJECT,\n",
    "        entity=params.ENTITY,\n",
    "        job_type=\"training\",\n",
    "        config=config,\n",
    "    )\n",
    "\n",
    "    config = wandb.config\n",
    "\n",
    "    processed_dataset_dir = download_data()\n",
    "    df = get_df(processed_dataset_dir)\n",
    "\n",
    "    dls = get_data(\n",
    "        df, bs=config.batch_size, img_size=config.img_size, augment=config.augment\n",
    "    )\n",
    "\n",
    "    metrics = [\n",
    "        MIOU(),\n",
    "        BackgroundIOU(),\n",
    "        RoadIOU(),\n",
    "        TrafficLightIOU(),\n",
    "        TrafficSignIOU(),\n",
    "        PersonIOU(),\n",
    "        VehicleIOU(),\n",
    "        BicycleIOU(),\n",
    "    ]\n",
    "\n",
    "    learn = unet_learner(\n",
    "        dls,\n",
    "        arch=getattr(tvmodels, config.arch),\n",
    "        pretrained=config.pretrained,\n",
    "        metrics=metrics,\n",
    "    )\n",
    "\n",
    "    callbacks = [\n",
    "        SaveModelCallback(monitor=\"miou\"),\n",
    "        WandbCallback(log_preds=False, log_model=True),\n",
    "    ]\n",
    "\n",
    "    learn.fit_one_cycle(config.epochs, config.lr, cbs=callbacks)\n",
    "\n",
    "    if config.log_preds:\n",
    "        log_predictions(learn)\n",
    "\n",
    "    log_final_metrics(learn)\n",
    "\n",
    "    wandb.finish()"
   ]
  },
  {
   "cell_type": "code",
   "execution_count": 10,
   "metadata": {},
   "outputs": [
    {
     "name": "stderr",
     "output_type": "stream",
     "text": [
      "Failed to detect the name of this notebook, you can set it manually with the WANDB_NOTEBOOK_NAME environment variable to enable code saving.\n",
      "\u001b[34m\u001b[1mwandb\u001b[0m: Currently logged in as: \u001b[33mreynald-havard\u001b[0m. Use \u001b[1m`wandb login --relogin`\u001b[0m to force relogin\n"
     ]
    },
    {
     "data": {
      "text/html": [
       "Tracking run with wandb version 0.17.7"
      ],
      "text/plain": [
       "<IPython.core.display.HTML object>"
      ]
     },
     "metadata": {},
     "output_type": "display_data"
    },
    {
     "data": {
      "text/html": [
       "Run data is saved locally in <code>/home/reynald/wandb-mlops-001/wandb/run-20240823_125044-wpnlsoor</code>"
      ],
      "text/plain": [
       "<IPython.core.display.HTML object>"
      ]
     },
     "metadata": {},
     "output_type": "display_data"
    },
    {
     "data": {
      "text/html": [
       "Syncing run <strong><a href='https://wandb.ai/reynald-havard/mlops-course-001/runs/wpnlsoor' target=\"_blank\">wandering-snow-4</a></strong> to <a href='https://wandb.ai/reynald-havard/mlops-course-001' target=\"_blank\">Weights & Biases</a> (<a href='https://wandb.me/run' target=\"_blank\">docs</a>)<br/>"
      ],
      "text/plain": [
       "<IPython.core.display.HTML object>"
      ]
     },
     "metadata": {},
     "output_type": "display_data"
    },
    {
     "data": {
      "text/html": [
       " View project at <a href='https://wandb.ai/reynald-havard/mlops-course-001' target=\"_blank\">https://wandb.ai/reynald-havard/mlops-course-001</a>"
      ],
      "text/plain": [
       "<IPython.core.display.HTML object>"
      ]
     },
     "metadata": {},
     "output_type": "display_data"
    },
    {
     "data": {
      "text/html": [
       " View run at <a href='https://wandb.ai/reynald-havard/mlops-course-001/runs/wpnlsoor' target=\"_blank\">https://wandb.ai/reynald-havard/mlops-course-001/runs/wpnlsoor</a>"
      ],
      "text/plain": [
       "<IPython.core.display.HTML object>"
      ]
     },
     "metadata": {},
     "output_type": "display_data"
    },
    {
     "name": "stderr",
     "output_type": "stream",
     "text": [
      "\u001b[34m\u001b[1mwandb\u001b[0m: Downloading large artifact bdd_simple_1k_split:latest, 846.07MB. 4010 files... \n",
      "\u001b[34m\u001b[1mwandb\u001b[0m:   4010 of 4010 files downloaded.  \n",
      "Done. 0:0:14.6\n"
     ]
    },
    {
     "data": {
      "text/html": [
       "\n",
       "<style>\n",
       "    /* Turns off some styling */\n",
       "    progress {\n",
       "        /* gets rid of default border in Firefox and Opera. */\n",
       "        border: none;\n",
       "        /* Needs to be in here for Safari polyfill so background images work as expected. */\n",
       "        background-size: auto;\n",
       "    }\n",
       "    progress:not([value]), progress:not([value])::-webkit-progress-bar {\n",
       "        background: repeating-linear-gradient(45deg, #7e7e7e, #7e7e7e 10px, #5c5c5c 10px, #5c5c5c 20px);\n",
       "    }\n",
       "    .progress-bar-interrupted, .progress-bar-interrupted::-webkit-progress-bar {\n",
       "        background: #F44336;\n",
       "    }\n",
       "</style>\n"
      ],
      "text/plain": [
       "<IPython.core.display.HTML object>"
      ]
     },
     "metadata": {},
     "output_type": "display_data"
    },
    {
     "data": {
      "text/html": [
       "<table border=\"1\" class=\"dataframe\">\n",
       "  <thead>\n",
       "    <tr style=\"text-align: left;\">\n",
       "      <th>epoch</th>\n",
       "      <th>train_loss</th>\n",
       "      <th>valid_loss</th>\n",
       "      <th>miou</th>\n",
       "      <th>background_iou</th>\n",
       "      <th>road_iou</th>\n",
       "      <th>traffic_light_iou</th>\n",
       "      <th>traffic_sign_iou</th>\n",
       "      <th>person_iou</th>\n",
       "      <th>vehicle_iou</th>\n",
       "      <th>bicycle_iou</th>\n",
       "      <th>time</th>\n",
       "    </tr>\n",
       "  </thead>\n",
       "  <tbody>\n",
       "    <tr>\n",
       "      <td>0</td>\n",
       "      <td>0.470066</td>\n",
       "      <td>0.300414</td>\n",
       "      <td>0.323163</td>\n",
       "      <td>0.874089</td>\n",
       "      <td>0.759075</td>\n",
       "      <td>0.000000</td>\n",
       "      <td>0.000000</td>\n",
       "      <td>0.000000</td>\n",
       "      <td>0.628977</td>\n",
       "      <td>0.000000</td>\n",
       "      <td>00:45</td>\n",
       "    </tr>\n",
       "    <tr>\n",
       "      <td>1</td>\n",
       "      <td>0.399541</td>\n",
       "      <td>0.337993</td>\n",
       "      <td>0.305050</td>\n",
       "      <td>0.873090</td>\n",
       "      <td>0.749559</td>\n",
       "      <td>0.000000</td>\n",
       "      <td>0.000000</td>\n",
       "      <td>0.000000</td>\n",
       "      <td>0.512698</td>\n",
       "      <td>0.000000</td>\n",
       "      <td>00:48</td>\n",
       "    </tr>\n",
       "    <tr>\n",
       "      <td>2</td>\n",
       "      <td>0.361387</td>\n",
       "      <td>0.319983</td>\n",
       "      <td>0.325481</td>\n",
       "      <td>0.875580</td>\n",
       "      <td>0.756180</td>\n",
       "      <td>0.000000</td>\n",
       "      <td>0.000000</td>\n",
       "      <td>0.000000</td>\n",
       "      <td>0.646611</td>\n",
       "      <td>0.000000</td>\n",
       "      <td>00:50</td>\n",
       "    </tr>\n",
       "    <tr>\n",
       "      <td>3</td>\n",
       "      <td>0.314680</td>\n",
       "      <td>0.304456</td>\n",
       "      <td>0.327561</td>\n",
       "      <td>0.885774</td>\n",
       "      <td>0.754995</td>\n",
       "      <td>0.000000</td>\n",
       "      <td>0.000000</td>\n",
       "      <td>0.000000</td>\n",
       "      <td>0.652155</td>\n",
       "      <td>0.000000</td>\n",
       "      <td>01:00</td>\n",
       "    </tr>\n",
       "    <tr>\n",
       "      <td>4</td>\n",
       "      <td>0.281292</td>\n",
       "      <td>0.272417</td>\n",
       "      <td>0.342014</td>\n",
       "      <td>0.900364</td>\n",
       "      <td>0.820419</td>\n",
       "      <td>0.000000</td>\n",
       "      <td>0.000000</td>\n",
       "      <td>0.000000</td>\n",
       "      <td>0.673316</td>\n",
       "      <td>0.000000</td>\n",
       "      <td>00:51</td>\n",
       "    </tr>\n",
       "    <tr>\n",
       "      <td>5</td>\n",
       "      <td>0.256844</td>\n",
       "      <td>0.242138</td>\n",
       "      <td>0.352813</td>\n",
       "      <td>0.911518</td>\n",
       "      <td>0.829185</td>\n",
       "      <td>0.000000</td>\n",
       "      <td>0.000000</td>\n",
       "      <td>0.000000</td>\n",
       "      <td>0.728989</td>\n",
       "      <td>0.000000</td>\n",
       "      <td>00:54</td>\n",
       "    </tr>\n",
       "    <tr>\n",
       "      <td>6</td>\n",
       "      <td>0.230782</td>\n",
       "      <td>0.238664</td>\n",
       "      <td>0.357606</td>\n",
       "      <td>0.910491</td>\n",
       "      <td>0.831318</td>\n",
       "      <td>0.030359</td>\n",
       "      <td>0.000000</td>\n",
       "      <td>0.000000</td>\n",
       "      <td>0.731072</td>\n",
       "      <td>0.000000</td>\n",
       "      <td>00:52</td>\n",
       "    </tr>\n",
       "    <tr>\n",
       "      <td>7</td>\n",
       "      <td>0.207542</td>\n",
       "      <td>0.245496</td>\n",
       "      <td>0.369571</td>\n",
       "      <td>0.909231</td>\n",
       "      <td>0.818452</td>\n",
       "      <td>0.125835</td>\n",
       "      <td>0.000000</td>\n",
       "      <td>0.000000</td>\n",
       "      <td>0.733481</td>\n",
       "      <td>0.000000</td>\n",
       "      <td>00:48</td>\n",
       "    </tr>\n",
       "    <tr>\n",
       "      <td>8</td>\n",
       "      <td>0.190269</td>\n",
       "      <td>0.233762</td>\n",
       "      <td>0.375046</td>\n",
       "      <td>0.920860</td>\n",
       "      <td>0.843007</td>\n",
       "      <td>0.101474</td>\n",
       "      <td>0.001072</td>\n",
       "      <td>0.000000</td>\n",
       "      <td>0.758910</td>\n",
       "      <td>0.000000</td>\n",
       "      <td>00:52</td>\n",
       "    </tr>\n",
       "    <tr>\n",
       "      <td>9</td>\n",
       "      <td>0.176146</td>\n",
       "      <td>0.228436</td>\n",
       "      <td>0.380274</td>\n",
       "      <td>0.920715</td>\n",
       "      <td>0.844428</td>\n",
       "      <td>0.134212</td>\n",
       "      <td>0.001408</td>\n",
       "      <td>0.000000</td>\n",
       "      <td>0.761157</td>\n",
       "      <td>0.000000</td>\n",
       "      <td>00:55</td>\n",
       "    </tr>\n",
       "  </tbody>\n",
       "</table>"
      ],
      "text/plain": [
       "<IPython.core.display.HTML object>"
      ]
     },
     "metadata": {},
     "output_type": "display_data"
    },
    {
     "name": "stdout",
     "output_type": "stream",
     "text": [
      "Better model found at epoch 0 with miou value: 0.3231629872756783.\n",
      "Better model found at epoch 2 with miou value: 0.32548146349889046.\n",
      "Better model found at epoch 3 with miou value: 0.3275605775453746.\n",
      "Better model found at epoch 4 with miou value: 0.34201422847302654.\n",
      "Better model found at epoch 5 with miou value: 0.35281312693754285.\n",
      "Better model found at epoch 6 with miou value: 0.3576057822658045.\n",
      "Better model found at epoch 7 with miou value: 0.36957129881631473.\n",
      "Better model found at epoch 8 with miou value: 0.375046092644009.\n",
      "Better model found at epoch 9 with miou value: 0.3802742171429146.\n"
     ]
    },
    {
     "name": "stderr",
     "output_type": "stream",
     "text": [
      "/home/reynald/wandb-mlops-001/venv/lib/python3.10/site-packages/fastai/learner.py:51: FutureWarning: You are using `torch.load` with `weights_only=False` (the current default value), which uses the default pickle module implicitly. It is possible to construct malicious pickle data which will execute arbitrary code during unpickling (See https://github.com/pytorch/pytorch/blob/main/SECURITY.md#untrusted-models for more details). In a future release, the default value for `weights_only` will be flipped to `True`. This limits the functions that could be executed during unpickling. Arbitrary objects will no longer be allowed to be loaded via this mode unless they are explicitly allowlisted by the user via `torch.serialization.add_safe_globals`. We recommend you start setting `weights_only=True` for any use case where you don't have full control of the loaded file. Please open an issue on GitHub for any issues related to this experimental feature.\n",
      "  state = torch.load(file, map_location=device, **torch_load_kwargs)\n"
     ]
    },
    {
     "data": {
      "text/html": [
       "\n",
       "<style>\n",
       "    /* Turns off some styling */\n",
       "    progress {\n",
       "        /* gets rid of default border in Firefox and Opera. */\n",
       "        border: none;\n",
       "        /* Needs to be in here for Safari polyfill so background images work as expected. */\n",
       "        background-size: auto;\n",
       "    }\n",
       "    progress:not([value]), progress:not([value])::-webkit-progress-bar {\n",
       "        background: repeating-linear-gradient(45deg, #7e7e7e, #7e7e7e 10px, #5c5c5c 10px, #5c5c5c 20px);\n",
       "    }\n",
       "    .progress-bar-interrupted, .progress-bar-interrupted::-webkit-progress-bar {\n",
       "        background: #F44336;\n",
       "    }\n",
       "</style>\n"
      ],
      "text/plain": [
       "<IPython.core.display.HTML object>"
      ]
     },
     "metadata": {},
     "output_type": "display_data"
    },
    {
     "data": {
      "text/html": [],
      "text/plain": [
       "<IPython.core.display.HTML object>"
      ]
     },
     "metadata": {},
     "output_type": "display_data"
    },
    {
     "data": {
      "text/html": [
       "\n",
       "<style>\n",
       "    /* Turns off some styling */\n",
       "    progress {\n",
       "        /* gets rid of default border in Firefox and Opera. */\n",
       "        border: none;\n",
       "        /* Needs to be in here for Safari polyfill so background images work as expected. */\n",
       "        background-size: auto;\n",
       "    }\n",
       "    progress:not([value]), progress:not([value])::-webkit-progress-bar {\n",
       "        background: repeating-linear-gradient(45deg, #7e7e7e, #7e7e7e 10px, #5c5c5c 10px, #5c5c5c 20px);\n",
       "    }\n",
       "    .progress-bar-interrupted, .progress-bar-interrupted::-webkit-progress-bar {\n",
       "        background: #F44336;\n",
       "    }\n",
       "</style>\n"
      ],
      "text/plain": [
       "<IPython.core.display.HTML object>"
      ]
     },
     "metadata": {},
     "output_type": "display_data"
    },
    {
     "data": {
      "text/html": [
       "\n",
       "    <div>\n",
       "      <progress value='100' class='' max='100' style='width:300px; height:20px; vertical-align: middle;'></progress>\n",
       "      100.00% [100/100 00:09&lt;00:00]\n",
       "    </div>\n",
       "    "
      ],
      "text/plain": [
       "<IPython.core.display.HTML object>"
      ]
     },
     "metadata": {},
     "output_type": "display_data"
    },
    {
     "data": {
      "text/html": [
       "\n",
       "<style>\n",
       "    /* Turns off some styling */\n",
       "    progress {\n",
       "        /* gets rid of default border in Firefox and Opera. */\n",
       "        border: none;\n",
       "        /* Needs to be in here for Safari polyfill so background images work as expected. */\n",
       "        background-size: auto;\n",
       "    }\n",
       "    progress:not([value]), progress:not([value])::-webkit-progress-bar {\n",
       "        background: repeating-linear-gradient(45deg, #7e7e7e, #7e7e7e 10px, #5c5c5c 10px, #5c5c5c 20px);\n",
       "    }\n",
       "    .progress-bar-interrupted, .progress-bar-interrupted::-webkit-progress-bar {\n",
       "        background: #F44336;\n",
       "    }\n",
       "</style>\n"
      ],
      "text/plain": [
       "<IPython.core.display.HTML object>"
      ]
     },
     "metadata": {},
     "output_type": "display_data"
    },
    {
     "data": {
      "text/html": [],
      "text/plain": [
       "<IPython.core.display.HTML object>"
      ]
     },
     "metadata": {},
     "output_type": "display_data"
    },
    {
     "data": {
      "text/html": [
       "<style>\n",
       "    table.wandb td:nth-child(1) { padding: 0 10px; text-align: left ; width: auto;} td:nth-child(2) {text-align: left ; width: 100%}\n",
       "    .wandb-row { display: flex; flex-direction: row; flex-wrap: wrap; justify-content: flex-start; width: 100% }\n",
       "    .wandb-col { display: flex; flex-direction: column; flex-basis: 100%; flex: 1; padding: 10px; }\n",
       "    </style>\n",
       "<div class=\"wandb-row\"><div class=\"wandb-col\"><h3>Run history:</h3><br/><table class=\"wandb\"><tr><td>background_iou</td><td>▁▁▁▃▅▇▆▆██</td></tr><tr><td>bicycle_iou</td><td>▁▁▁▁▁▁▁▁▁▁</td></tr><tr><td>epoch</td><td>▁▁▁▂▂▂▂▂▂▃▃▃▃▃▄▄▄▄▄▄▅▅▅▅▅▅▆▆▆▆▆▇▇▇▇▇▇███</td></tr><tr><td>eps_0</td><td>▁▁▁▁▁▁▁▁▁▁▁▁▁▁▁▁▁▁▁▁▁▁▁▁▁▁▁▁▁▁▁▁▁▁▁▁▁▁▁▁</td></tr><tr><td>eps_1</td><td>▁▁▁▁▁▁▁▁▁▁▁▁▁▁▁▁▁▁▁▁▁▁▁▁▁▁▁▁▁▁▁▁▁▁▁▁▁▁▁▁</td></tr><tr><td>eps_2</td><td>▁▁▁▁▁▁▁▁▁▁▁▁▁▁▁▁▁▁▁▁▁▁▁▁▁▁▁▁▁▁▁▁▁▁▁▁▁▁▁▁</td></tr><tr><td>lr_0</td><td>▁▂▂▃▄▅▆▇███████▇▇▇▇▆▆▆▅▅▅▄▄▄▃▃▃▂▂▂▁▁▁▁▁▁</td></tr><tr><td>lr_1</td><td>▁▂▂▃▄▅▆▇███████▇▇▇▇▆▆▆▅▅▅▄▄▄▃▃▃▂▂▂▁▁▁▁▁▁</td></tr><tr><td>lr_2</td><td>▁▂▂▃▄▅▆▇███████▇▇▇▇▆▆▆▅▅▅▄▄▄▃▃▃▂▂▂▁▁▁▁▁▁</td></tr><tr><td>miou</td><td>▃▁▃▃▄▅▆▇██</td></tr><tr><td>mom_0</td><td>██▇▆▅▄▃▂▁▁▁▁▁▁▁▂▂▂▂▃▃▃▄▄▄▅▅▅▆▆▆▇▇▇██████</td></tr><tr><td>mom_1</td><td>██▇▆▅▄▃▂▁▁▁▁▁▁▁▂▂▂▂▃▃▃▄▄▄▅▅▅▆▆▆▇▇▇██████</td></tr><tr><td>mom_2</td><td>██▇▆▅▄▃▂▁▁▁▁▁▁▁▂▂▂▂▃▃▃▄▄▄▅▅▅▆▆▆▇▇▇██████</td></tr><tr><td>person_iou</td><td>▁▁▁▁▁▁▁▁▁▁</td></tr><tr><td>raw_loss</td><td>█▃▄▂▂▅▄▃▂▂▂▃▃▂▂▂▂▂▂▁▁▂▂▂▂▂▂▂▁▁▁▁▂▁▁▁▂▁▁▁</td></tr><tr><td>road_iou</td><td>▂▁▁▁▆▇▇▆██</td></tr><tr><td>sqr_mom_0</td><td>▁▁▁▁▁▁▁▁▁▁▁▁▁▁▁▁▁▁▁▁▁▁▁▁▁▁▁▁▁▁▁▁▁▁▁▁▁▁▁▁</td></tr><tr><td>sqr_mom_1</td><td>▁▁▁▁▁▁▁▁▁▁▁▁▁▁▁▁▁▁▁▁▁▁▁▁▁▁▁▁▁▁▁▁▁▁▁▁▁▁▁▁</td></tr><tr><td>sqr_mom_2</td><td>▁▁▁▁▁▁▁▁▁▁▁▁▁▁▁▁▁▁▁▁▁▁▁▁▁▁▁▁▁▁▁▁▁▁▁▁▁▁▁▁</td></tr><tr><td>traffic_light_iou</td><td>▁▁▁▁▁▁▃█▆█</td></tr><tr><td>traffic_sign_iou</td><td>▁▁▁▁▁▁▁▁▆█</td></tr><tr><td>train_loss</td><td>█▅▄▃▃▃▂▂▂▂▂▂▂▂▂▂▂▂▂▂▂▂▁▁▁▁▁▁▁▁▁▁▁▁▁▁▁▁▁▁</td></tr><tr><td>train_samples_per_sec</td><td>█▇▄▃▄▄▄▁▄▄▃▄▂▁▂▂▄▄▃▄▃▂▄▂▄▄▂▁▄▅▄▄▃▃▁▂▂▁▂▄</td></tr><tr><td>valid_loss</td><td>▆█▇▆▄▂▂▂▁▁</td></tr><tr><td>vehicle_iou</td><td>▄▁▅▅▆▇▇▇██</td></tr><tr><td>wd_0</td><td>▁▁▁▁▁▁▁▁▁▁▁▁▁▁▁▁▁▁▁▁▁▁▁▁▁▁▁▁▁▁▁▁▁▁▁▁▁▁▁▁</td></tr><tr><td>wd_1</td><td>▁▁▁▁▁▁▁▁▁▁▁▁▁▁▁▁▁▁▁▁▁▁▁▁▁▁▁▁▁▁▁▁▁▁▁▁▁▁▁▁</td></tr><tr><td>wd_2</td><td>▁▁▁▁▁▁▁▁▁▁▁▁▁▁▁▁▁▁▁▁▁▁▁▁▁▁▁▁▁▁▁▁▁▁▁▁▁▁▁▁</td></tr></table><br/></div><div class=\"wandb-col\"><h3>Run summary:</h3><br/><table class=\"wandb\"><tr><td>background_iou</td><td>0.92072</td></tr><tr><td>bicycle_iou</td><td>0.0</td></tr><tr><td>epoch</td><td>10</td></tr><tr><td>eps_0</td><td>1e-05</td></tr><tr><td>eps_1</td><td>1e-05</td></tr><tr><td>eps_2</td><td>1e-05</td></tr><tr><td>final_background_iou</td><td>0.92072</td></tr><tr><td>final_bicycle_iou</td><td>0.0</td></tr><tr><td>final_loss</td><td>0.22844</td></tr><tr><td>final_miou</td><td>0.38027</td></tr><tr><td>final_person_iou</td><td>0.0</td></tr><tr><td>final_road_iou</td><td>0.84443</td></tr><tr><td>final_traffic_light_iou</td><td>0.13421</td></tr><tr><td>final_traffic_sign_iou</td><td>0.00141</td></tr><tr><td>final_vehicle_iou</td><td>0.76116</td></tr><tr><td>lr_0</td><td>0.0</td></tr><tr><td>lr_1</td><td>0.0</td></tr><tr><td>lr_2</td><td>0.0</td></tr><tr><td>miou</td><td>0.38027</td></tr><tr><td>mom_0</td><td>0.95</td></tr><tr><td>mom_1</td><td>0.95</td></tr><tr><td>mom_2</td><td>0.95</td></tr><tr><td>person_iou</td><td>0.0</td></tr><tr><td>raw_loss</td><td>0.1217</td></tr><tr><td>road_iou</td><td>0.84443</td></tr><tr><td>sqr_mom_0</td><td>0.99</td></tr><tr><td>sqr_mom_1</td><td>0.99</td></tr><tr><td>sqr_mom_2</td><td>0.99</td></tr><tr><td>traffic_light_iou</td><td>0.13421</td></tr><tr><td>traffic_sign_iou</td><td>0.00141</td></tr><tr><td>train_loss</td><td>0.17615</td></tr><tr><td>train_samples_per_sec</td><td>21.22508</td></tr><tr><td>valid_loss</td><td>0.22844</td></tr><tr><td>vehicle_iou</td><td>0.76116</td></tr><tr><td>wd_0</td><td>0.01</td></tr><tr><td>wd_1</td><td>0.01</td></tr><tr><td>wd_2</td><td>0.01</td></tr></table><br/></div></div>"
      ],
      "text/plain": [
       "<IPython.core.display.HTML object>"
      ]
     },
     "metadata": {},
     "output_type": "display_data"
    },
    {
     "data": {
      "text/html": [
       " View run <strong style=\"color:#cdcd00\">wandering-snow-4</strong> at: <a href='https://wandb.ai/reynald-havard/mlops-course-001/runs/wpnlsoor' target=\"_blank\">https://wandb.ai/reynald-havard/mlops-course-001/runs/wpnlsoor</a><br/> View project at: <a href='https://wandb.ai/reynald-havard/mlops-course-001' target=\"_blank\">https://wandb.ai/reynald-havard/mlops-course-001</a><br/>Synced 5 W&B file(s), 1 media file(s), 302 artifact file(s) and 0 other file(s)"
      ],
      "text/plain": [
       "<IPython.core.display.HTML object>"
      ]
     },
     "metadata": {},
     "output_type": "display_data"
    },
    {
     "data": {
      "text/html": [
       "Find logs at: <code>./wandb/run-20240823_125044-wpnlsoor/logs</code>"
      ],
      "text/plain": [
       "<IPython.core.display.HTML object>"
      ]
     },
     "metadata": {},
     "output_type": "display_data"
    },
    {
     "data": {
      "text/html": [
       "The new W&B backend becomes opt-out in version 0.18.0; try it out with `wandb.require(\"core\")`! See https://wandb.me/wandb-core for more information."
      ],
      "text/plain": [
       "<IPython.core.display.HTML object>"
      ]
     },
     "metadata": {},
     "output_type": "display_data"
    }
   ],
   "source": [
    "train(train_config)"
   ]
  }
 ],
 "metadata": {
  "kernelspec": {
   "display_name": "venv",
   "language": "python",
   "name": "python3"
  },
  "language_info": {
   "codemirror_mode": {
    "name": "ipython",
    "version": 3
   },
   "file_extension": ".py",
   "mimetype": "text/x-python",
   "name": "python",
   "nbconvert_exporter": "python",
   "pygments_lexer": "ipython3",
   "version": "3.10.12"
  }
 },
 "nbformat": 4,
 "nbformat_minor": 2
}
